{
 "cells": [
  {
   "cell_type": "code",
   "execution_count": 1,
   "id": "d8044a23",
   "metadata": {},
   "outputs": [],
   "source": [
    "import numpy as np\n",
    "import pandas as pd\n",
    "import matplotlib.pyplot as plt\n",
    "%matplotlib inline\n",
    "import seaborn as sns"
   ]
  },
  {
   "cell_type": "code",
   "execution_count": 2,
   "id": "11a5ede4",
   "metadata": {},
   "outputs": [],
   "source": [
    "foody=pd.read_csv('data_Foody.csv',index_col=0)"
   ]
  },
  {
   "cell_type": "code",
   "execution_count": 3,
   "id": "78cafd14",
   "metadata": {},
   "outputs": [
    {
     "data": {
      "text/html": [
       "<div>\n",
       "<style scoped>\n",
       "    .dataframe tbody tr th:only-of-type {\n",
       "        vertical-align: middle;\n",
       "    }\n",
       "\n",
       "    .dataframe tbody tr th {\n",
       "        vertical-align: top;\n",
       "    }\n",
       "\n",
       "    .dataframe thead th {\n",
       "        text-align: right;\n",
       "    }\n",
       "</style>\n",
       "<table border=\"1\" class=\"dataframe\">\n",
       "  <thead>\n",
       "    <tr style=\"text-align: right;\">\n",
       "      <th></th>\n",
       "      <th>restaurant</th>\n",
       "      <th>review_text</th>\n",
       "      <th>review_score</th>\n",
       "    </tr>\n",
       "  </thead>\n",
       "  <tbody>\n",
       "    <tr>\n",
       "      <th>0</th>\n",
       "      <td>Good Morning Restaurant</td>\n",
       "      <td>Pizza phong cách Ý. Ngán hải sản nên cả nhà gh...</td>\n",
       "      <td>8.2</td>\n",
       "    </tr>\n",
       "    <tr>\n",
       "      <th>1</th>\n",
       "      <td>Hạt Dẻ Trùng Khánh</td>\n",
       "      <td>- Vị trí: chỉ là 1 chiếc xe nho nhỏ nằm ở khu ...</td>\n",
       "      <td>8.0</td>\n",
       "    </tr>\n",
       "    <tr>\n",
       "      <th>2</th>\n",
       "      <td>Bột - Healthy &amp; Weight Loss Food - Shop Online</td>\n",
       "      <td>Nay lang thang trên BM thấy đang khuyến mãi xo...</td>\n",
       "      <td>8.2</td>\n",
       "    </tr>\n",
       "    <tr>\n",
       "      <th>3</th>\n",
       "      <td>Bánh Giò Chợ Nguyễn Công Trứ</td>\n",
       "      <td>Quán nằm trong chợ Nguyễn Công Trứ, cũng dễ tì...</td>\n",
       "      <td>8.2</td>\n",
       "    </tr>\n",
       "    <tr>\n",
       "      <th>4</th>\n",
       "      <td>Quán Quảng - Bún Quảng</td>\n",
       "      <td>Ngãi heo với heo thiệttttt 🐷🐷🐷\\n🤤🤤 bún nem chả...</td>\n",
       "      <td>9.0</td>\n",
       "    </tr>\n",
       "    <tr>\n",
       "      <th>...</th>\n",
       "      <td>...</td>\n",
       "      <td>...</td>\n",
       "      <td>...</td>\n",
       "    </tr>\n",
       "    <tr>\n",
       "      <th>39920</th>\n",
       "      <td>Bánh Bao Nóng Chi Béo - Hàng Bông</td>\n",
       "      <td>Tình cờ đọc được một bài viết review của một b...</td>\n",
       "      <td>8.2</td>\n",
       "    </tr>\n",
       "    <tr>\n",
       "      <th>39921</th>\n",
       "      <td>Bò Tơ Quán Mộc - Nguyễn Thị Định</td>\n",
       "      <td>Gọi hai đĩa nướng và xông hơi. Mỗi đĩa 200/k n...</td>\n",
       "      <td>7.4</td>\n",
       "    </tr>\n",
       "    <tr>\n",
       "      <th>39922</th>\n",
       "      <td>Sumo BBQ - SC VivoCity - Buffet Nướng &amp; Lẩu</td>\n",
       "      <td>Quán không gian đẹp, thoáng mát. Nhân viên nhi...</td>\n",
       "      <td>10.0</td>\n",
       "    </tr>\n",
       "    <tr>\n",
       "      <th>39923</th>\n",
       "      <td>Xôi Lá Việt - Trưng Nữ Vương</td>\n",
       "      <td>Quá ngon, đặt nhiều lần rồi chừ mới lên review...</td>\n",
       "      <td>10.0</td>\n",
       "    </tr>\n",
       "    <tr>\n",
       "      <th>39924</th>\n",
       "      <td>Bạch Dinh Cafe</td>\n",
       "      <td>Mình đi chơi khu Bạch Dinh trong một ngày xong...</td>\n",
       "      <td>5.6</td>\n",
       "    </tr>\n",
       "  </tbody>\n",
       "</table>\n",
       "<p>39925 rows × 3 columns</p>\n",
       "</div>"
      ],
      "text/plain": [
       "                                           restaurant  \\\n",
       "0                             Good Morning Restaurant   \n",
       "1                                  Hạt Dẻ Trùng Khánh   \n",
       "2      Bột - Healthy & Weight Loss Food - Shop Online   \n",
       "3                        Bánh Giò Chợ Nguyễn Công Trứ   \n",
       "4                              Quán Quảng - Bún Quảng   \n",
       "...                                               ...   \n",
       "39920               Bánh Bao Nóng Chi Béo - Hàng Bông   \n",
       "39921                Bò Tơ Quán Mộc - Nguyễn Thị Định   \n",
       "39922     Sumo BBQ - SC VivoCity - Buffet Nướng & Lẩu   \n",
       "39923                    Xôi Lá Việt - Trưng Nữ Vương   \n",
       "39924                                  Bạch Dinh Cafe   \n",
       "\n",
       "                                             review_text  review_score  \n",
       "0      Pizza phong cách Ý. Ngán hải sản nên cả nhà gh...           8.2  \n",
       "1      - Vị trí: chỉ là 1 chiếc xe nho nhỏ nằm ở khu ...           8.0  \n",
       "2      Nay lang thang trên BM thấy đang khuyến mãi xo...           8.2  \n",
       "3      Quán nằm trong chợ Nguyễn Công Trứ, cũng dễ tì...           8.2  \n",
       "4      Ngãi heo với heo thiệttttt 🐷🐷🐷\\n🤤🤤 bún nem chả...           9.0  \n",
       "...                                                  ...           ...  \n",
       "39920  Tình cờ đọc được một bài viết review của một b...           8.2  \n",
       "39921  Gọi hai đĩa nướng và xông hơi. Mỗi đĩa 200/k n...           7.4  \n",
       "39922  Quán không gian đẹp, thoáng mát. Nhân viên nhi...          10.0  \n",
       "39923  Quá ngon, đặt nhiều lần rồi chừ mới lên review...          10.0  \n",
       "39924  Mình đi chơi khu Bạch Dinh trong một ngày xong...           5.6  \n",
       "\n",
       "[39925 rows x 3 columns]"
      ]
     },
     "execution_count": 3,
     "metadata": {},
     "output_type": "execute_result"
    }
   ],
   "source": [
    "foody"
   ]
  },
  {
   "cell_type": "code",
   "execution_count": 4,
   "id": "4619bef7",
   "metadata": {},
   "outputs": [
    {
     "name": "stdout",
     "output_type": "stream",
     "text": [
      "<class 'pandas.core.frame.DataFrame'>\n",
      "Int64Index: 39925 entries, 0 to 39924\n",
      "Data columns (total 3 columns):\n",
      " #   Column        Non-Null Count  Dtype  \n",
      "---  ------        --------------  -----  \n",
      " 0   restaurant    39925 non-null  object \n",
      " 1   review_text   39925 non-null  object \n",
      " 2   review_score  39925 non-null  float64\n",
      "dtypes: float64(1), object(2)\n",
      "memory usage: 1.2+ MB\n"
     ]
    }
   ],
   "source": [
    "foody.info()"
   ]
  },
  {
   "cell_type": "code",
   "execution_count": 5,
   "id": "f6806781",
   "metadata": {},
   "outputs": [],
   "source": [
    "foody['sentiment']=foody['review_score'].map(lambda x: 'negative' if x<4 else('positive' if x>7 else 'neutral'))"
   ]
  },
  {
   "cell_type": "code",
   "execution_count": 6,
   "id": "27b9b919",
   "metadata": {},
   "outputs": [
    {
     "data": {
      "text/html": [
       "<div>\n",
       "<style scoped>\n",
       "    .dataframe tbody tr th:only-of-type {\n",
       "        vertical-align: middle;\n",
       "    }\n",
       "\n",
       "    .dataframe tbody tr th {\n",
       "        vertical-align: top;\n",
       "    }\n",
       "\n",
       "    .dataframe thead th {\n",
       "        text-align: right;\n",
       "    }\n",
       "</style>\n",
       "<table border=\"1\" class=\"dataframe\">\n",
       "  <thead>\n",
       "    <tr style=\"text-align: right;\">\n",
       "      <th></th>\n",
       "      <th>restaurant</th>\n",
       "      <th>review_text</th>\n",
       "      <th>review_score</th>\n",
       "      <th>sentiment</th>\n",
       "    </tr>\n",
       "  </thead>\n",
       "  <tbody>\n",
       "    <tr>\n",
       "      <th>0</th>\n",
       "      <td>Good Morning Restaurant</td>\n",
       "      <td>Pizza phong cách Ý. Ngán hải sản nên cả nhà gh...</td>\n",
       "      <td>8.2</td>\n",
       "      <td>positive</td>\n",
       "    </tr>\n",
       "    <tr>\n",
       "      <th>1</th>\n",
       "      <td>Hạt Dẻ Trùng Khánh</td>\n",
       "      <td>- Vị trí: chỉ là 1 chiếc xe nho nhỏ nằm ở khu ...</td>\n",
       "      <td>8.0</td>\n",
       "      <td>positive</td>\n",
       "    </tr>\n",
       "    <tr>\n",
       "      <th>2</th>\n",
       "      <td>Bột - Healthy &amp; Weight Loss Food - Shop Online</td>\n",
       "      <td>Nay lang thang trên BM thấy đang khuyến mãi xo...</td>\n",
       "      <td>8.2</td>\n",
       "      <td>positive</td>\n",
       "    </tr>\n",
       "    <tr>\n",
       "      <th>3</th>\n",
       "      <td>Bánh Giò Chợ Nguyễn Công Trứ</td>\n",
       "      <td>Quán nằm trong chợ Nguyễn Công Trứ, cũng dễ tì...</td>\n",
       "      <td>8.2</td>\n",
       "      <td>positive</td>\n",
       "    </tr>\n",
       "    <tr>\n",
       "      <th>4</th>\n",
       "      <td>Quán Quảng - Bún Quảng</td>\n",
       "      <td>Ngãi heo với heo thiệttttt 🐷🐷🐷\\n🤤🤤 bún nem chả...</td>\n",
       "      <td>9.0</td>\n",
       "      <td>positive</td>\n",
       "    </tr>\n",
       "    <tr>\n",
       "      <th>...</th>\n",
       "      <td>...</td>\n",
       "      <td>...</td>\n",
       "      <td>...</td>\n",
       "      <td>...</td>\n",
       "    </tr>\n",
       "    <tr>\n",
       "      <th>39920</th>\n",
       "      <td>Bánh Bao Nóng Chi Béo - Hàng Bông</td>\n",
       "      <td>Tình cờ đọc được một bài viết review của một b...</td>\n",
       "      <td>8.2</td>\n",
       "      <td>positive</td>\n",
       "    </tr>\n",
       "    <tr>\n",
       "      <th>39921</th>\n",
       "      <td>Bò Tơ Quán Mộc - Nguyễn Thị Định</td>\n",
       "      <td>Gọi hai đĩa nướng và xông hơi. Mỗi đĩa 200/k n...</td>\n",
       "      <td>7.4</td>\n",
       "      <td>positive</td>\n",
       "    </tr>\n",
       "    <tr>\n",
       "      <th>39922</th>\n",
       "      <td>Sumo BBQ - SC VivoCity - Buffet Nướng &amp; Lẩu</td>\n",
       "      <td>Quán không gian đẹp, thoáng mát. Nhân viên nhi...</td>\n",
       "      <td>10.0</td>\n",
       "      <td>positive</td>\n",
       "    </tr>\n",
       "    <tr>\n",
       "      <th>39923</th>\n",
       "      <td>Xôi Lá Việt - Trưng Nữ Vương</td>\n",
       "      <td>Quá ngon, đặt nhiều lần rồi chừ mới lên review...</td>\n",
       "      <td>10.0</td>\n",
       "      <td>positive</td>\n",
       "    </tr>\n",
       "    <tr>\n",
       "      <th>39924</th>\n",
       "      <td>Bạch Dinh Cafe</td>\n",
       "      <td>Mình đi chơi khu Bạch Dinh trong một ngày xong...</td>\n",
       "      <td>5.6</td>\n",
       "      <td>neutral</td>\n",
       "    </tr>\n",
       "  </tbody>\n",
       "</table>\n",
       "<p>39925 rows × 4 columns</p>\n",
       "</div>"
      ],
      "text/plain": [
       "                                           restaurant  \\\n",
       "0                             Good Morning Restaurant   \n",
       "1                                  Hạt Dẻ Trùng Khánh   \n",
       "2      Bột - Healthy & Weight Loss Food - Shop Online   \n",
       "3                        Bánh Giò Chợ Nguyễn Công Trứ   \n",
       "4                              Quán Quảng - Bún Quảng   \n",
       "...                                               ...   \n",
       "39920               Bánh Bao Nóng Chi Béo - Hàng Bông   \n",
       "39921                Bò Tơ Quán Mộc - Nguyễn Thị Định   \n",
       "39922     Sumo BBQ - SC VivoCity - Buffet Nướng & Lẩu   \n",
       "39923                    Xôi Lá Việt - Trưng Nữ Vương   \n",
       "39924                                  Bạch Dinh Cafe   \n",
       "\n",
       "                                             review_text  review_score  \\\n",
       "0      Pizza phong cách Ý. Ngán hải sản nên cả nhà gh...           8.2   \n",
       "1      - Vị trí: chỉ là 1 chiếc xe nho nhỏ nằm ở khu ...           8.0   \n",
       "2      Nay lang thang trên BM thấy đang khuyến mãi xo...           8.2   \n",
       "3      Quán nằm trong chợ Nguyễn Công Trứ, cũng dễ tì...           8.2   \n",
       "4      Ngãi heo với heo thiệttttt 🐷🐷🐷\\n🤤🤤 bún nem chả...           9.0   \n",
       "...                                                  ...           ...   \n",
       "39920  Tình cờ đọc được một bài viết review của một b...           8.2   \n",
       "39921  Gọi hai đĩa nướng và xông hơi. Mỗi đĩa 200/k n...           7.4   \n",
       "39922  Quán không gian đẹp, thoáng mát. Nhân viên nhi...          10.0   \n",
       "39923  Quá ngon, đặt nhiều lần rồi chừ mới lên review...          10.0   \n",
       "39924  Mình đi chơi khu Bạch Dinh trong một ngày xong...           5.6   \n",
       "\n",
       "      sentiment  \n",
       "0      positive  \n",
       "1      positive  \n",
       "2      positive  \n",
       "3      positive  \n",
       "4      positive  \n",
       "...         ...  \n",
       "39920  positive  \n",
       "39921  positive  \n",
       "39922  positive  \n",
       "39923  positive  \n",
       "39924   neutral  \n",
       "\n",
       "[39925 rows x 4 columns]"
      ]
     },
     "execution_count": 6,
     "metadata": {},
     "output_type": "execute_result"
    }
   ],
   "source": [
    "foody"
   ]
  },
  {
   "cell_type": "code",
   "execution_count": 8,
   "id": "3eeba956",
   "metadata": {},
   "outputs": [
    {
     "data": {
      "text/plain": [
       "26       Sao mình thấy ngon mà nhỉ :( \\n\\nMình gọi 4 bá...\n",
       "28       Very bad food! The sashimi wasnt even fresh!\\n...\n",
       "34       Lúc trước mình uống k nổi Toco Toco luôn mà bữ...\n",
       "40       buổi sáng chẳng biết ăn gì, vào now dạo dạo th...\n",
       "46       Là khách qen của Highland và chỉ uống 1 món tr...\n",
       "                               ...                        \n",
       "39900    Vị trí quán đắc địa nằm ngay đối diện bờ hồ ta...\n",
       "39901    Quay lại quán lần thứ n. Gía càng ngày có vẻ c...\n",
       "39915    Mới đi hôm qua - mùng 5 tết, tầm 7h tối, quán ...\n",
       "39916    Lòng xào nghệ phần nhỏ 40k\\nGỏi tai heo phần n...\n",
       "39924    Mình đi chơi khu Bạch Dinh trong một ngày xong...\n",
       "Name: review_text, Length: 5910, dtype: object"
      ]
     },
     "execution_count": 8,
     "metadata": {},
     "output_type": "execute_result"
    }
   ],
   "source": [
    "foody[foody['sentiment']=='neutral']['review_text']"
   ]
  },
  {
   "cell_type": "code",
   "execution_count": 7,
   "id": "861fd266",
   "metadata": {},
   "outputs": [
    {
     "data": {
      "image/png": "[encoded data removed]",
      "text/plain": [
       "<Figure size 432x288 with 1 Axes>"
      ]
     },
     "metadata": {
      "needs_background": "light"
     },
     "output_type": "display_data"
    }
   ],
   "source": [
    "# Biểu đồ histogram thể hiện tần suất các bình luận tiêu cực, tiêu cực và trung lập\n",
    "sns.histplot(foody['sentiment'])\n",
    "plt.show()"
   ]
  },
  {
   "cell_type": "markdown",
   "id": "a0adafee",
   "metadata": {},
   "source": [
    "Nhận xét:\n",
    "* Số bình luận đánh giá tích cực cáo gấp 5 lần các bình luận tiêu cực và trung lập\n",
    "* => Kết quả phân loại có thể sẽ bị ảnh hưởng => Tăng số mẫu của các bình luận tiêu cực và trung lập trong bước xây dựng model"
   ]
  },
  {
   "cell_type": "code",
   "execution_count": 12,
   "id": "7cd7e883",
   "metadata": {},
   "outputs": [],
   "source": [
    "num_rating = foody.groupby('restaurant')['review_score'].count().reset_index()"
   ]
  },
  {
   "cell_type": "code",
   "execution_count": 19,
   "id": "d6576e1c",
   "metadata": {},
   "outputs": [],
   "source": [
    "num_rating=num_rating.sort_values(by='review_score',ascending=False)"
   ]
  },
  {
   "cell_type": "code",
   "execution_count": 20,
   "id": "b6a31f1e",
   "metadata": {},
   "outputs": [
    {
     "data": {
      "text/html": [
       "<div>\n",
       "<style scoped>\n",
       "    .dataframe tbody tr th:only-of-type {\n",
       "        vertical-align: middle;\n",
       "    }\n",
       "\n",
       "    .dataframe tbody tr th {\n",
       "        vertical-align: top;\n",
       "    }\n",
       "\n",
       "    .dataframe thead th {\n",
       "        text-align: right;\n",
       "    }\n",
       "</style>\n",
       "<table border=\"1\" class=\"dataframe\">\n",
       "  <thead>\n",
       "    <tr style=\"text-align: right;\">\n",
       "      <th></th>\n",
       "      <th>restaurant</th>\n",
       "      <th>review_score</th>\n",
       "    </tr>\n",
       "  </thead>\n",
       "  <tbody>\n",
       "    <tr>\n",
       "      <th>11361</th>\n",
       "      <td>Trà Sữa Mộc - Thái Phiên</td>\n",
       "      <td>20</td>\n",
       "    </tr>\n",
       "    <tr>\n",
       "      <th>9591</th>\n",
       "      <td>Quán Nướng Giấy Bạc</td>\n",
       "      <td>19</td>\n",
       "    </tr>\n",
       "    <tr>\n",
       "      <th>2446</th>\n",
       "      <td>Bún Riêu Tôm</td>\n",
       "      <td>16</td>\n",
       "    </tr>\n",
       "    <tr>\n",
       "      <th>4546</th>\n",
       "      <td>Dê Nghĩa 2 - Hệ Thống Dê Đà Nẵng</td>\n",
       "      <td>14</td>\n",
       "    </tr>\n",
       "    <tr>\n",
       "      <th>4054</th>\n",
       "      <td>Cơm Ngon Mẹ Nấu - Cầu Diễn</td>\n",
       "      <td>14</td>\n",
       "    </tr>\n",
       "    <tr>\n",
       "      <th>...</th>\n",
       "      <td>...</td>\n",
       "      <td>...</td>\n",
       "    </tr>\n",
       "    <tr>\n",
       "      <th>8644</th>\n",
       "      <td>Phúc Ký - Phá Lấu Truyền Thống</td>\n",
       "      <td>1</td>\n",
       "    </tr>\n",
       "    <tr>\n",
       "      <th>1126</th>\n",
       "      <td>Bánh Dày Quán Gánh</td>\n",
       "      <td>1</td>\n",
       "    </tr>\n",
       "    <tr>\n",
       "      <th>12365</th>\n",
       "      <td>Điểm Tâm Sáng - Bún &amp; Mì</td>\n",
       "      <td>1</td>\n",
       "    </tr>\n",
       "    <tr>\n",
       "      <th>8977</th>\n",
       "      <td>Phở Quyền - Thống Nhất</td>\n",
       "      <td>1</td>\n",
       "    </tr>\n",
       "    <tr>\n",
       "      <th>11215</th>\n",
       "      <td>Trà Hoa Viên</td>\n",
       "      <td>1</td>\n",
       "    </tr>\n",
       "  </tbody>\n",
       "</table>\n",
       "<p>12728 rows × 2 columns</p>\n",
       "</div>"
      ],
      "text/plain": [
       "                             restaurant  review_score\n",
       "11361          Trà Sữa Mộc - Thái Phiên            20\n",
       "9591                Quán Nướng Giấy Bạc            19\n",
       "2446                       Bún Riêu Tôm            16\n",
       "4546   Dê Nghĩa 2 - Hệ Thống Dê Đà Nẵng            14\n",
       "4054         Cơm Ngon Mẹ Nấu - Cầu Diễn            14\n",
       "...                                 ...           ...\n",
       "8644     Phúc Ký - Phá Lấu Truyền Thống             1\n",
       "1126                 Bánh Dày Quán Gánh             1\n",
       "12365          Điểm Tâm Sáng - Bún & Mì             1\n",
       "8977             Phở Quyền - Thống Nhất             1\n",
       "11215                      Trà Hoa Viên             1\n",
       "\n",
       "[12728 rows x 2 columns]"
      ]
     },
     "execution_count": 20,
     "metadata": {},
     "output_type": "execute_result"
    }
   ],
   "source": [
    "num_rating"
   ]
  },
  {
   "cell_type": "code",
   "execution_count": 26,
   "id": "51e2dfdd",
   "metadata": {},
   "outputs": [
    {
     "data": {
      "image/png": "[encoded data removed]",
      "text/plain": [
       "<Figure size 864x576 with 1 Axes>"
      ]
     },
     "metadata": {
      "needs_background": "light"
     },
     "output_type": "display_data"
    }
   ],
   "source": [
    "# 10 quán có nhiều lượt đánh giá nhất Foody\n",
    "plt.figure(figsize=(12,8))\n",
    "plt.bar(data=num_rating.head(10),x='restaurant',height='review_score')\n",
    "plt.xlabel('restaurant')\n",
    "plt.ylabel('review')\n",
    "plt.xticks(rotation=40)\n",
    "plt.show()"
   ]
  },
  {
   "cell_type": "markdown",
   "id": "5befb256",
   "metadata": {},
   "source": [
    "Nhận xét:\n",
    "* Quán Trà trà sữa Mộc - Thái Phiên được nhiều lượt đánh giá nhất Foody"
   ]
  },
  {
   "cell_type": "code",
   "execution_count": 28,
   "id": "517352ef",
   "metadata": {},
   "outputs": [],
   "source": [
    "foody.to_csv('Foody.csv',encoding='utf-8-sig')"
   ]
  },
  {
   "cell_type": "code",
   "execution_count": null,
   "id": "7ca8fab3",
   "metadata": {},
   "outputs": [],
   "source": []
  }
 ],
 "metadata": {
  "kernelspec": {
   "display_name": "Python 3",
   "language": "python",
   "name": "python3"
  },
  "language_info": {
   "codemirror_mode": {
    "name": "ipython",
    "version": 3
   },
   "file_extension": ".py",
   "mimetype": "text/x-python",
   "name": "python",
   "nbconvert_exporter": "python",
   "pygments_lexer": "ipython3",
   "version": "3.6.8"
  }
 },
 "nbformat": 4,
 "nbformat_minor": 5
}
