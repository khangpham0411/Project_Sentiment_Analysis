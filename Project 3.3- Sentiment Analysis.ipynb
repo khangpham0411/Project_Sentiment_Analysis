{
 "cells": [
  {
   "cell_type": "code",
   "execution_count": 1,
   "id": "b414f71b",
   "metadata": {},
   "outputs": [],
   "source": [
    "import warnings\n",
    "warnings.filterwarnings('ignore')"
   ]
  },
  {
   "cell_type": "code",
   "execution_count": 2,
   "id": "1627382e",
   "metadata": {},
   "outputs": [],
   "source": [
    "import numpy as np\n",
    "import pandas as pd\n",
    "from sklearn.model_selection import train_test_split\n",
    "from sklearn.feature_extraction.text import CountVectorizer, TfidfVectorizer\n",
    "from lazypredict.Supervised import LazyClassifier"
   ]
  },
  {
   "cell_type": "code",
   "execution_count": 3,
   "id": "e9ce8381",
   "metadata": {},
   "outputs": [],
   "source": [
    "data=pd.read_csv('Foody_tw.csv',index_col=0)"
   ]
  },
  {
   "cell_type": "code",
   "execution_count": 4,
   "id": "218487d6",
   "metadata": {},
   "outputs": [
    {
     "data": {
      "text/html": [
       "<div>\n",
       "<style scoped>\n",
       "    .dataframe tbody tr th:only-of-type {\n",
       "        vertical-align: middle;\n",
       "    }\n",
       "\n",
       "    .dataframe tbody tr th {\n",
       "        vertical-align: top;\n",
       "    }\n",
       "\n",
       "    .dataframe thead th {\n",
       "        text-align: right;\n",
       "    }\n",
       "</style>\n",
       "<table border=\"1\" class=\"dataframe\">\n",
       "  <thead>\n",
       "    <tr style=\"text-align: right;\">\n",
       "      <th></th>\n",
       "      <th>restaurant</th>\n",
       "      <th>review_text</th>\n",
       "      <th>review_score</th>\n",
       "      <th>sentiment</th>\n",
       "      <th>review_text_token</th>\n",
       "    </tr>\n",
       "  </thead>\n",
       "  <tbody>\n",
       "    <tr>\n",
       "      <th>0</th>\n",
       "      <td>Good Morning Restaurant</td>\n",
       "      <td>Pizza phong cách Ý. Ngán hải sản nên cả nhà gh...</td>\n",
       "      <td>8.20</td>\n",
       "      <td>positive</td>\n",
       "      <td>ngán ghé rẻ trình_bày đẹp</td>\n",
       "    </tr>\n",
       "    <tr>\n",
       "      <th>1</th>\n",
       "      <td>Hạt Dẻ Trùng Khánh</td>\n",
       "      <td>- Vị trí: chỉ là 1 chiếc xe nho nhỏ nằm ở khu ...</td>\n",
       "      <td>8.00</td>\n",
       "      <td>positive</td>\n",
       "      <td>hòa đông đối_diện thích sạch_sẽ chuyên_nghiệp ...</td>\n",
       "    </tr>\n",
       "    <tr>\n",
       "      <th>2</th>\n",
       "      <td>Bột - Healthy &amp; Weight Loss Food - Shop Online</td>\n",
       "      <td>Nay lang thang trên BM thấy đang khuyến mãi xo...</td>\n",
       "      <td>8.20</td>\n",
       "      <td>positive</td>\n",
       "      <td>thắng khuyến_mãi đọc đặt_hàng thử cảm_nhận đặt...</td>\n",
       "    </tr>\n",
       "  </tbody>\n",
       "</table>\n",
       "</div>"
      ],
      "text/plain": [
       "                                       restaurant  \\\n",
       "0                         Good Morning Restaurant   \n",
       "1                              Hạt Dẻ Trùng Khánh   \n",
       "2  Bột - Healthy & Weight Loss Food - Shop Online   \n",
       "\n",
       "                                         review_text  review_score sentiment  \\\n",
       "0  Pizza phong cách Ý. Ngán hải sản nên cả nhà gh...          8.20  positive   \n",
       "1  - Vị trí: chỉ là 1 chiếc xe nho nhỏ nằm ở khu ...          8.00  positive   \n",
       "2  Nay lang thang trên BM thấy đang khuyến mãi xo...          8.20  positive   \n",
       "\n",
       "                                   review_text_token  \n",
       "0                          ngán ghé rẻ trình_bày đẹp  \n",
       "1  hòa đông đối_diện thích sạch_sẽ chuyên_nghiệp ...  \n",
       "2  thắng khuyến_mãi đọc đặt_hàng thử cảm_nhận đặt...  "
      ]
     },
     "execution_count": 4,
     "metadata": {},
     "output_type": "execute_result"
    }
   ],
   "source": [
    "data.head(3)"
   ]
  },
  {
   "cell_type": "code",
   "execution_count": 5,
   "id": "a74bba0f",
   "metadata": {},
   "outputs": [
    {
     "name": "stdout",
     "output_type": "stream",
     "text": [
      "<class 'pandas.core.frame.DataFrame'>\n",
      "Int64Index: 39925 entries, 0 to 39924\n",
      "Data columns (total 5 columns):\n",
      " #   Column             Non-Null Count  Dtype  \n",
      "---  ------             --------------  -----  \n",
      " 0   restaurant         39925 non-null  object \n",
      " 1   review_text        39925 non-null  object \n",
      " 2   review_score       39925 non-null  float64\n",
      " 3   sentiment          39925 non-null  object \n",
      " 4   review_text_token  39319 non-null  object \n",
      "dtypes: float64(1), object(4)\n",
      "memory usage: 1.8+ MB\n"
     ]
    }
   ],
   "source": [
    "data.info()"
   ]
  },
  {
   "cell_type": "code",
   "execution_count": 6,
   "id": "065d1497",
   "metadata": {},
   "outputs": [
    {
     "data": {
      "text/html": [
       "<div>\n",
       "<style scoped>\n",
       "    .dataframe tbody tr th:only-of-type {\n",
       "        vertical-align: middle;\n",
       "    }\n",
       "\n",
       "    .dataframe tbody tr th {\n",
       "        vertical-align: top;\n",
       "    }\n",
       "\n",
       "    .dataframe thead th {\n",
       "        text-align: right;\n",
       "    }\n",
       "</style>\n",
       "<table border=\"1\" class=\"dataframe\">\n",
       "  <thead>\n",
       "    <tr style=\"text-align: right;\">\n",
       "      <th></th>\n",
       "      <th>restaurant</th>\n",
       "      <th>review_text</th>\n",
       "      <th>review_score</th>\n",
       "      <th>sentiment</th>\n",
       "      <th>review_text_token</th>\n",
       "    </tr>\n",
       "  </thead>\n",
       "  <tbody>\n",
       "    <tr>\n",
       "      <th>19</th>\n",
       "      <td>Trái Cây Tô The Lulu</td>\n",
       "      <td>Ngon lam</td>\n",
       "      <td>8.40</td>\n",
       "      <td>positive</td>\n",
       "      <td>NaN</td>\n",
       "    </tr>\n",
       "    <tr>\n",
       "      <th>21</th>\n",
       "      <td>Trà Long - Trà Trái Cây</td>\n",
       "      <td>Trà ngon</td>\n",
       "      <td>8.80</td>\n",
       "      <td>positive</td>\n",
       "      <td>NaN</td>\n",
       "    </tr>\n",
       "    <tr>\n",
       "      <th>164</th>\n",
       "      <td>Bánh Đa Trộn &amp; Bún Riêu - Nguyễn Thị Định</td>\n",
       "      <td>Ngon❤️</td>\n",
       "      <td>8.20</td>\n",
       "      <td>positive</td>\n",
       "      <td>NaN</td>\n",
       "    </tr>\n",
       "    <tr>\n",
       "      <th>165</th>\n",
       "      <td>Quán Hỏa - Món Nướng Bình Dân</td>\n",
       "      <td>Mấy lần trước ăn ở đây thấy ngon, mà hôm...</td>\n",
       "      <td>8.20</td>\n",
       "      <td>positive</td>\n",
       "      <td>NaN</td>\n",
       "    </tr>\n",
       "    <tr>\n",
       "      <th>223</th>\n",
       "      <td>Burger Việt - Cách Mạng Tháng 8</td>\n",
       "      <td>Take away tiện lợi phong phú</td>\n",
       "      <td>8.20</td>\n",
       "      <td>positive</td>\n",
       "      <td>NaN</td>\n",
       "    </tr>\n",
       "    <tr>\n",
       "      <th>...</th>\n",
       "      <td>...</td>\n",
       "      <td>...</td>\n",
       "      <td>...</td>\n",
       "      <td>...</td>\n",
       "      <td>...</td>\n",
       "    </tr>\n",
       "    <tr>\n",
       "      <th>39592</th>\n",
       "      <td>Bánh Cuốn &amp; Bún Chả Hoàng Long</td>\n",
       "      <td>Ăn cũng ngon, nước chan vừa phải nhiều toping</td>\n",
       "      <td>8.40</td>\n",
       "      <td>positive</td>\n",
       "      <td>NaN</td>\n",
       "    </tr>\n",
       "    <tr>\n",
       "      <th>39628</th>\n",
       "      <td>Trung Nguyên E-Coffee - Mạc Thiên Tích</td>\n",
       "      <td>Giảm 30%\\n~~ Mocha</td>\n",
       "      <td>9.20</td>\n",
       "      <td>positive</td>\n",
       "      <td>NaN</td>\n",
       "    </tr>\n",
       "    <tr>\n",
       "      <th>39639</th>\n",
       "      <td>Cơm Chay Pháp Lạc</td>\n",
       "      <td>Cơm chay mà tên đồ ăn nghe hấp dẫn lắm\\nG...</td>\n",
       "      <td>6.60</td>\n",
       "      <td>neutral</td>\n",
       "      <td>NaN</td>\n",
       "    </tr>\n",
       "    <tr>\n",
       "      <th>39646</th>\n",
       "      <td>Ốc Bin</td>\n",
       "      <td>Menu quán ốc Bin</td>\n",
       "      <td>8.00</td>\n",
       "      <td>positive</td>\n",
       "      <td>NaN</td>\n",
       "    </tr>\n",
       "    <tr>\n",
       "      <th>39771</th>\n",
       "      <td>Kem Bơ Dừa Bruce Lee</td>\n",
       "      <td>Mình mua Royaltea mà ship mình cái gì vậy ạ</td>\n",
       "      <td>1.00</td>\n",
       "      <td>negative</td>\n",
       "      <td>NaN</td>\n",
       "    </tr>\n",
       "  </tbody>\n",
       "</table>\n",
       "<p>606 rows × 5 columns</p>\n",
       "</div>"
      ],
      "text/plain": [
       "                                      restaurant  \\\n",
       "19                          Trái Cây Tô The Lulu   \n",
       "21                       Trà Long - Trà Trái Cây   \n",
       "164    Bánh Đa Trộn & Bún Riêu - Nguyễn Thị Định   \n",
       "165                Quán Hỏa - Món Nướng Bình Dân   \n",
       "223              Burger Việt - Cách Mạng Tháng 8   \n",
       "...                                          ...   \n",
       "39592             Bánh Cuốn & Bún Chả Hoàng Long   \n",
       "39628     Trung Nguyên E-Coffee - Mạc Thiên Tích   \n",
       "39639                          Cơm Chay Pháp Lạc   \n",
       "39646                                     Ốc Bin   \n",
       "39771                       Kem Bơ Dừa Bruce Lee   \n",
       "\n",
       "                                             review_text  review_score  \\\n",
       "19                                              Ngon lam          8.40   \n",
       "21                                              Trà ngon          8.80   \n",
       "164                                               Ngon❤️          8.20   \n",
       "165    Mấy lần trước ăn ở đây thấy ngon, mà hôm...          8.20   \n",
       "223                         Take away tiện lợi phong phú          8.20   \n",
       "...                                                  ...           ...   \n",
       "39592      Ăn cũng ngon, nước chan vừa phải nhiều toping          8.40   \n",
       "39628                                 Giảm 30%\\n~~ Mocha          9.20   \n",
       "39639  Cơm chay mà tên đồ ăn nghe hấp dẫn lắm\\nG...          6.60   \n",
       "39646                                   Menu quán ốc Bin          8.00   \n",
       "39771        Mình mua Royaltea mà ship mình cái gì vậy ạ          1.00   \n",
       "\n",
       "      sentiment review_text_token  \n",
       "19     positive               NaN  \n",
       "21     positive               NaN  \n",
       "164    positive               NaN  \n",
       "165    positive               NaN  \n",
       "223    positive               NaN  \n",
       "...         ...               ...  \n",
       "39592  positive               NaN  \n",
       "39628  positive               NaN  \n",
       "39639   neutral               NaN  \n",
       "39646  positive               NaN  \n",
       "39771  negative               NaN  \n",
       "\n",
       "[606 rows x 5 columns]"
      ]
     },
     "execution_count": 6,
     "metadata": {},
     "output_type": "execute_result"
    }
   ],
   "source": [
    "data[data['review_text_token'].isnull()]"
   ]
  },
  {
   "cell_type": "code",
   "execution_count": 7,
   "id": "b7606c38",
   "metadata": {},
   "outputs": [],
   "source": [
    "data=data.dropna()"
   ]
  },
  {
   "cell_type": "code",
   "execution_count": 8,
   "id": "7f9dc2b7",
   "metadata": {},
   "outputs": [],
   "source": [
    "tf = TfidfVectorizer(analyzer='word', min_df=0)\n",
    "tfidf_matrix = tf.fit_transform(data['review_text_token'])"
   ]
  },
  {
   "cell_type": "code",
   "execution_count": 9,
   "id": "3dfdb7f4",
   "metadata": {},
   "outputs": [
    {
     "data": {
      "text/plain": [
       "array([[0., 0., 0., ..., 0., 0., 0.],\n",
       "       [0., 0., 0., ..., 0., 0., 0.],\n",
       "       [0., 0., 0., ..., 0., 0., 0.],\n",
       "       ...,\n",
       "       [0., 0., 0., ..., 0., 0., 0.],\n",
       "       [0., 0., 0., ..., 0., 0., 0.],\n",
       "       [0., 0., 0., ..., 0., 0., 0.]])"
      ]
     },
     "execution_count": 9,
     "metadata": {},
     "output_type": "execute_result"
    }
   ],
   "source": [
    "X = tfidf_matrix.toarray()\n",
    "X"
   ]
  },
  {
   "cell_type": "code",
   "execution_count": 10,
   "id": "f5536b4d",
   "metadata": {},
   "outputs": [
    {
     "data": {
      "text/plain": [
       "(39319, 17478)"
      ]
     },
     "execution_count": 10,
     "metadata": {},
     "output_type": "execute_result"
    }
   ],
   "source": [
    "X.shape"
   ]
  },
  {
   "cell_type": "code",
   "execution_count": 11,
   "id": "538c43b7",
   "metadata": {},
   "outputs": [],
   "source": [
    "target = data['sentiment']"
   ]
  },
  {
   "cell_type": "code",
   "execution_count": 12,
   "id": "0b4555dc",
   "metadata": {},
   "outputs": [],
   "source": [
    "target = target.replace(\"negative\", 0)"
   ]
  },
  {
   "cell_type": "code",
   "execution_count": 13,
   "id": "c8b30385",
   "metadata": {},
   "outputs": [],
   "source": [
    "target = target.replace(\"neutral\", 1)"
   ]
  },
  {
   "cell_type": "code",
   "execution_count": 14,
   "id": "d01e8a07",
   "metadata": {},
   "outputs": [],
   "source": [
    "target = target.replace(\"positive\", 2)"
   ]
  },
  {
   "cell_type": "code",
   "execution_count": 15,
   "id": "059918b2",
   "metadata": {},
   "outputs": [
    {
     "data": {
      "text/plain": [
       "0    2\n",
       "1    2\n",
       "2    2\n",
       "3    2\n",
       "4    2\n",
       "Name: sentiment, dtype: int64"
      ]
     },
     "execution_count": 15,
     "metadata": {},
     "output_type": "execute_result"
    }
   ],
   "source": [
    "target[:5]"
   ]
  },
  {
   "cell_type": "code",
   "execution_count": 16,
   "id": "0e9e40ff",
   "metadata": {},
   "outputs": [],
   "source": [
    "y = np.array(target)"
   ]
  },
  {
   "cell_type": "code",
   "execution_count": 17,
   "id": "5a5c9a37",
   "metadata": {},
   "outputs": [
    {
     "data": {
      "text/plain": [
       "(39319,)"
      ]
     },
     "execution_count": 17,
     "metadata": {},
     "output_type": "execute_result"
    }
   ],
   "source": [
    "y.shape"
   ]
  },
  {
   "cell_type": "code",
   "execution_count": 18,
   "id": "53a3764f",
   "metadata": {},
   "outputs": [],
   "source": [
    "from sklearn.model_selection import train_test_split\n",
    "from lazypredict.Supervised import LazyClassifier"
   ]
  },
  {
   "cell_type": "code",
   "execution_count": 19,
   "id": "efc3d874",
   "metadata": {},
   "outputs": [],
   "source": [
    "X_train, X_test, y_train, y_test = train_test_split(X, y, \n",
    "                                                    test_size=0.20) "
   ]
  },
  {
   "cell_type": "code",
   "execution_count": null,
   "id": "c0d6ba52",
   "metadata": {},
   "outputs": [
    {
     "name": "stderr",
     "output_type": "stream",
     "text": [
      " 86%|████████████████████████████████████████████████████████████████████           | 25/29 [6:39:49<38:54, 583.51s/it]"
     ]
    }
   ],
   "source": [
    "clf = LazyClassifier(verbose = 0, ignore_warnings = True, custom_metric= None)\n",
    "models, prediction = clf.fit(X_train, X_test, y_train, y_test)"
   ]
  },
  {
   "cell_type": "code",
   "execution_count": null,
   "id": "993500b9",
   "metadata": {},
   "outputs": [],
   "source": [
    "models"
   ]
  },
  {
   "cell_type": "code",
   "execution_count": null,
   "id": "a8c018a2",
   "metadata": {},
   "outputs": [],
   "source": [
    "clfNB = BernoulliNB()\n",
    "params = {'alpha': [0.01, 0.1, 0.5, 1.0, 10.0],}\n",
    "\n",
    "bernoulli_tuning = GridSearchCV(clfNB, param_grid=params, n_jobs=-1, cv=5, verbose=5)\n",
    "bernoulli_tuning.fit(X_train, y_train)"
   ]
  },
  {
   "cell_type": "code",
   "execution_count": null,
   "id": "dd88925a",
   "metadata": {},
   "outputs": [],
   "source": [
    "y_pre = NB.transform(X)"
   ]
  },
  {
   "cell_type": "code",
   "execution_count": null,
   "id": "afde8110",
   "metadata": {},
   "outputs": [],
   "source": []
  },
  {
   "cell_type": "code",
   "execution_count": null,
   "id": "a24dbf69",
   "metadata": {},
   "outputs": [],
   "source": []
  }
 ],
 "metadata": {
  "kernelspec": {
   "display_name": "Python 3",
   "language": "python",
   "name": "python3"
  },
  "language_info": {
   "codemirror_mode": {
    "name": "ipython",
    "version": 3
   },
   "file_extension": ".py",
   "mimetype": "text/x-python",
   "name": "python",
   "nbconvert_exporter": "python",
   "pygments_lexer": "ipython3",
   "version": "3.6.8"
  }
 },
 "nbformat": 4,
 "nbformat_minor": 5
}
